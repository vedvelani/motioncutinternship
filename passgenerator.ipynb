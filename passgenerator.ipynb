{
 "cells": [
  {
   "cell_type": "code",
   "execution_count": 1,
   "id": "7d2c5b82",
   "metadata": {},
   "outputs": [
    {
     "name": "stdout",
     "output_type": "stream",
     "text": [
      "Enter the length as your requirement:12\n",
      "Enter the number of passwords you want to generate:2\n",
      "The generated password is : @1&NgOgQC@^2\n",
      "The generated password is : nTV~iKdt%BdD\n",
      "Do you want to generate more password?no\n",
      "your random password is successfully generated...\n",
      "Thank You! \n"
     ]
    }
   ],
   "source": [
    "import random\n",
    "\n",
    "char_string=\"ABCDEFGHIJKLMNOPQRSTUVWXYZabcdefghigklmnopqrstuvwxyz1234567890*&^%$#@1~\"\n",
    "\n",
    "while True:\n",
    "    \n",
    "    length_of_pass=int(input(\"Enter the length as your requirement:\"))\n",
    "    \n",
    "    number_of_pass=int(input(\"Enter the number of passwords you want to generate:\"))\n",
    "    \n",
    "    \n",
    "    for i in range(0,number_of_pass):\n",
    "        \n",
    "        password=\"\"\n",
    "        \n",
    "        for j in range(0,length_of_pass):\n",
    "            \n",
    "            char_of_pass=random.choice(char_string)\n",
    "            \n",
    "            password=password+char_of_pass\n",
    "            \n",
    "        print(\"The generated password is :\",password)\n",
    "        \n",
    "    repeat=input(\"Do you want to generate more password?\")\n",
    "    \n",
    "    if repeat==\"No\" or repeat==\"no\":\n",
    "        break\n",
    "        \n",
    "print(\"your random password is successfully generated...\\nThank You! \")"
   ]
  },
  {
   "cell_type": "markdown",
   "id": "ef986ff4",
   "metadata": {},
   "source": []
  }
 ],
 "metadata": {
  "kernelspec": {
   "display_name": "Python 3 (ipykernel)",
   "language": "python",
   "name": "python3"
  },
  "language_info": {
   "codemirror_mode": {
    "name": "ipython",
    "version": 3
   },
   "file_extension": ".py",
   "mimetype": "text/x-python",
   "name": "python",
   "nbconvert_exporter": "python",
   "pygments_lexer": "ipython3",
   "version": "3.9.13"
  }
 },
 "nbformat": 4,
 "nbformat_minor": 5
}
