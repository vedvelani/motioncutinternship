{
 "cells": [
  {
   "cell_type": "code",
   "execution_count": 1,
   "id": "a396d5a7",
   "metadata": {},
   "outputs": [
    {
     "name": "stdout",
     "output_type": "stream",
     "text": [
      "Enter the temperature:0\n",
      "convert to (C)elsius or (F)ahrenheit?c\n",
      "0.0 Fahrenheit is equal to -17.78 Celsius\n"
     ]
    }
   ],
   "source": [
    "def celsius_to_fahrenheit(celsius):\n",
    "    fahrenheit = (celsius * 9/5) + 32\n",
    "    return fahrenheit\n",
    "\n",
    "def fahrenheit_to_celsius(fahrenheit):\n",
    "    celsius = (fahrenheit - 32) * 5/9\n",
    "    return celsius\n",
    "\n",
    "temperature =float(input(\"Enter the temperature:\"))\n",
    "conversation_choice=input(\"convert to (C)elsius or (F)ahrenheit?\").upper()\n",
    "\n",
    "if  conversation_choice== 'C':\n",
    "    converted_temperature =fahrenheit_to_celsius(temperature)\n",
    "    print(f\"{temperature} Fahrenheit is equal to {converted_temperature:.2f} Celsius\")\n",
    "    \n",
    "elif conversation_choice== 'F':\n",
    "    converted_temperature =celsius_to_fahrenheit(temperature)\n",
    "    print(f\"{temperature} Celsius is equal to {converted_temperature:.2f} Fahrenheit\")\n",
    "    \n",
    "else:\n",
    "    print(\"Invalid choice. Please enter 'C' for Celsius or 'F' for Fahrenheit.\")"
   ]
  },
  {
   "cell_type": "code",
   "execution_count": null,
   "id": "9c5d6471",
   "metadata": {},
   "outputs": [],
   "source": []
  }
 ],
 "metadata": {
  "kernelspec": {
   "display_name": "Python 3 (ipykernel)",
   "language": "python",
   "name": "python3"
  },
  "language_info": {
   "codemirror_mode": {
    "name": "ipython",
    "version": 3
   },
   "file_extension": ".py",
   "mimetype": "text/x-python",
   "name": "python",
   "nbconvert_exporter": "python",
   "pygments_lexer": "ipython3",
   "version": "3.9.13"
  }
 },
 "nbformat": 4,
 "nbformat_minor": 5
}
